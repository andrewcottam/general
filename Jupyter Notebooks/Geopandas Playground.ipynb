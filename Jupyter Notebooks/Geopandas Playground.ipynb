{
 "cells": [
  {
   "cell_type": "code",
   "execution_count": 5,
   "metadata": {},
   "outputs": [
    {
     "data": {
      "image/png": "[encoded data removed]",
      "text/plain": [
       "<matplotlib.figure.Figure at 0x128e8a20>"
      ]
     },
     "metadata": {},
     "output_type": "display_data"
    },
    {
     "data": {
      "image/png": "[encoded data removed]",
      "text/plain": [
       "<matplotlib.figure.Figure at 0x128e88d0>"
      ]
     },
     "metadata": {},
     "output_type": "display_data"
    }
   ],
   "source": [
    "import geopandas as gpd\n",
    "import matplotlib.pyplot as plt\n",
    "from shapely.geometry import Polygon\n",
    "#intersection between two polygons\n",
    "polys1 = gpd.GeoSeries([Polygon([(0,0), (2,0), (2,2), (0,2)]),Polygon([(2,2), (4,2), (4,4), (2,4)])])\n",
    "polys2 = gpd.GeoSeries([Polygon([(1,1), (3,1), (3,3), (1,3)]),Polygon([(3,3), (5,3), (5,5), (3,5)])])\n",
    "df1 = gpd.GeoDataFrame({'geometry': polys1, 'df1':[1,2]})\n",
    "df2 = gpd.GeoDataFrame({'geometry': polys2, 'df2':[1,2]})\n",
    "ax = df1.plot(color='red');\n",
    "df2.plot(ax=ax, color='green', alpha=0.5);\n",
    "plt.show()"
   ]
  },
  {
   "cell_type": "code",
   "execution_count": 58,
   "metadata": {},
   "outputs": [],
   "source": [
    "def CreateHexGrid(area, xleft, ybottom, xright, ytop, savename):\n",
    "    #error checks\n",
    "    if area <0:\n",
    "        raise MarxanServicesError(\"Area value is invalid\")\n",
    "        \n",
    "    if len(savename) <= 0:\n",
    "        return \"No output filename given\"\n",
    "    \n",
    "    if (xleft >= xright):\n",
    "        return \"Invalid extent width: \" + unicode(xleft) + \" - \" + unicode(xright)\n",
    "    \n",
    "    if (ybottom >= ytop):\n",
    "        return \"Invalid extent height: \" + unicode(ybottom) + \" - \" + unicode(ytop)\n",
    "    \n",
    "    print area, xleft, ybottom, xright, ytop\n",
    "    \n",
    "    #calculate the spacing between the hexagons to give you the required area\n",
    "    sideLength = math.sqrt((2*area)/(3*math.sqrt(3)))\n",
    "    xspacing = sideLength + (sideLength * 0.5) # the cos(60) = 0.5\n",
    "    yspacing = xspacing / 0.866025\n",
    "\n",
    "    #create a new geodataframe to store the hexagons\n",
    "    newdata = gpd.GeoDataFrame()\n",
    "    newdata.crs = {'init' :'epsg:3410'}\n",
    "       \n",
    "    #create the geometry field and an id field\n",
    "    newdata['geometry'] = None\n",
    "    newdata['id'] = None\n",
    "    \n",
    "    #get the number of rows/columns\n",
    "    rows = int(ceil((ytop - ybottom) / yspacing))\n",
    "    columns = int(ceil((xright - xleft) / xspacing))\n",
    "    print \"rows, columns: \" + str(rows) + \" \" + str( columns)\n",
    "    \n",
    "    #initialise the feature counter\n",
    "    feature_count = 0\n",
    "    \n",
    "    #THE FOLLOWING CODE COMES FROM MICHAEL MINN'S MMQGIS PLUGIN - http://michaelminn.com/linux/mmqgis/\n",
    "    \n",
    "    # To preserve symmetry, hspacing is fixed relative to vspacing\n",
    "    xvertexlo = 0.288675134594813 * yspacing\n",
    "    xvertexhi = 0.577350269189626 * yspacing\n",
    "    xspacing = xvertexlo + xvertexhi\n",
    "\n",
    "    for column in range(0, int(floor(float(xright - xleft) / xspacing))):\n",
    "        # (column + 1) and (row + 1) calculation is used to maintain \n",
    "        # topology between adjacent shapes and avoid overlaps/holes \n",
    "        # due to rounding errors\n",
    "\n",
    "        x1 = xleft + (column * xspacing)    # far left\n",
    "        x2 = x1 + (xvertexhi - xvertexlo)    # left\n",
    "        x3 = xleft + ((column + 1) * xspacing)    # right\n",
    "        x4 = x3 + (xvertexhi - xvertexlo)    # far right\n",
    "\n",
    "        for row in range(0, int(floor(float(ytop - ybottom) / yspacing))):\n",
    "\n",
    "            if (column % 2) == 0:\n",
    "                y1 = ybottom + (((row * 2) + 0) * (yspacing / 2))    # hi\n",
    "                y2 = ybottom + (((row * 2) + 1) * (yspacing / 2))    # mid\n",
    "                y3 = ybottom + (((row * 2) + 2) * (yspacing / 2))    # lo\n",
    "            else:\n",
    "                y1 = ybottom + (((row * 2) + 1) * (yspacing / 2))    # hi\n",
    "                y2 = ybottom + (((row * 2) + 2) * (yspacing / 2))    # mid\n",
    "                y3 = ybottom + (((row * 2) + 3) * (yspacing / 2))    #lo\n",
    "\n",
    "            #create the coordinates of the hexagon\n",
    "            coordinates = [(x1, y2), (x2, y1), (x3, y1), (x4, y2), (x3, y3), (x2, y3), (x1, y2)]\n",
    "            \n",
    "            #cretae a polygon with the coordinates\n",
    "            poly = Polygon(coordinates)\n",
    "\n",
    "            #set the geometry\n",
    "            newdata.loc[feature_count, 'geometry'] = poly\n",
    "\n",
    "            #set the feature id\n",
    "            newdata.loc[feature_count, 'id'] = feature_count\n",
    "            \n",
    "            #increment the counter\n",
    "            feature_count = feature_count + 1\n",
    "\n",
    "    # Write the data into that Shapefile\n",
    "    newdata.to_file(\"E:/cottaan/Documents/ArcGIS/Datasets/\" + savename + \".shp\")\n",
    "    \n",
    "    # Write the prj file as it doesnt get produced\n",
    "    file = open(\"E:/cottaan/Documents/ArcGIS/Datasets/\" + savename + \".prj\",\"w\") \n",
    "    file.write('PROJCS[\"NSIDC_EASE_Grid_Global\",GEOGCS[\"GCS_Unspecified datum based upon the International 1924 Authalic Sphere\",DATUM[\"D_Sphere_International_1924_Authalic\",SPHEROID[\"International_1924_Authalic_Sphere\",6371228,0]],PRIMEM[\"Greenwich\",0],UNIT[\"Degree\",0.017453292519943295]],PROJECTION[\"Cylindrical_Equal_Area\"],PARAMETER[\"standard_parallel_1\",30],PARAMETER[\"central_meridian\",0],PARAMETER[\"false_easting\",0],PARAMETER[\"false_northing\",0],UNIT[\"Meter\",1]]') \n",
    "    file.close()\n",
    "    \n",
    "    return \"Hexagon grid created\""
   ]
  },
  {
   "cell_type": "code",
   "execution_count": null,
   "metadata": {},
   "outputs": [],
   "source": [
    "import math, fiona\n",
    "import geopandas as gpd\n",
    "import matplotlib.pyplot as plt\n",
    "from shapely.geometry import Polygon\n",
    "from math import floor, ceil\n",
    "\n",
    "#get the global administrative boundaries\n",
    "world = gpd.read_file(r'E:\\cottaan\\Documents\\ArcGIS\\Datasets\\gaul_eez\\jrc_gaul_2015_eez_v9_dissolved_from_andreas_spatial_lite_db.shp')\n",
    "\n",
    "#get the country boundary\n",
    "png = world.loc[world['iso3']=='PNG']\n",
    "# eastern_highlands = gpd.read_file(r'E:\\cottaan\\Documents\\ArcGIS\\eastern_highlands.shp')\n",
    "\n",
    "#reproject and get the bounds\n",
    "bounds = png['geometry'].to_crs(epsg=3410).bounds.iloc[0] #iloc gets the first bounds\n",
    "\n",
    "#create the hexagon grid\n",
    "CreateHexGrid(50000000, bounds.minx,  bounds.miny, bounds.maxx, bounds.maxy,'test7')\n",
    "\n",
    "#get the hexagon grid\n",
    "hexGrid = gpd.read_file(r'E:\\cottaan\\Documents\\ArcGIS\\Datasets\\test7.shp')\n",
    "\n",
    "#do the intersection between the country boundary and the hexagon grid and write the results\n",
    "intersection = gpd.overlay(png, hexGrid, how='intersection')\n",
    "intersection.to_file(\"E:/cottaan/Documents/ArcGIS/Datasets/intersection.shp\")\n",
    "\n",
    "# plt.clf()\n",
    "# png.plot()\n",
    "# eastern_highlands.plot()\n",
    "# intersection.plot()\n",
    "# plt.show()\n"
   ]
  },
  {
   "cell_type": "code",
   "execution_count": null,
   "metadata": {
    "collapsed": true
   },
   "outputs": [],
   "source": [
    "#do the intersection between the country boundary and the hexagon grid and write the results\n",
    "intersection = gpd.overlay(png, hexGrid, how='intersection')\n",
    "intersection.to_file(\"E:/cottaan/Documents/ArcGIS/Datasets/intersection.shp\")\n"
   ]
  }
 ],
 "metadata": {
  "kernelspec": {
   "display_name": "Python 2",
   "language": "python",
   "name": "python2"
  },
  "language_info": {
   "codemirror_mode": {
    "name": "ipython",
    "version": 2
   },
   "file_extension": ".py",
   "mimetype": "text/x-python",
   "name": "python",
   "nbconvert_exporter": "python",
   "pygments_lexer": "ipython2",
   "version": "2.7.14"
  }
 },
 "nbformat": 4,
 "nbformat_minor": 2
}
