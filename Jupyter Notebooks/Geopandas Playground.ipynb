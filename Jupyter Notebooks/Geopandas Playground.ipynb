{
 "cells": [
  {
   "cell_type": "code",
   "execution_count": 5,
   "metadata": {},
   "outputs": [
    {
     "data": {
      "image/png": "[encoded data removed]",
      "text/plain": [
       "<matplotlib.figure.Figure at 0x128e8a20>"
      ]
     },
     "metadata": {},
     "output_type": "display_data"
    },
    {
     "data": {
      "image/png": "[encoded data removed]",
      "text/plain": [
       "<matplotlib.figure.Figure at 0x128e88d0>"
      ]
     },
     "metadata": {},
     "output_type": "display_data"
    }
   ],
   "source": [
    "import geopandas as gpd\n",
    "import matplotlib.pyplot as plt\n",
    "from shapely.geometry import Polygon\n",
    "#intersection between two polygons\n",
    "polys1 = gpd.GeoSeries([Polygon([(0,0), (2,0), (2,2), (0,2)]),Polygon([(2,2), (4,2), (4,4), (2,4)])])\n",
    "polys2 = gpd.GeoSeries([Polygon([(1,1), (3,1), (3,3), (1,3)]),Polygon([(3,3), (5,3), (5,5), (3,5)])])\n",
    "df1 = gpd.GeoDataFrame({'geometry': polys1, 'df1':[1,2]})\n",
    "df2 = gpd.GeoDataFrame({'geometry': polys2, 'df2':[1,2]})\n",
    "ax = df1.plot(color='red');\n",
    "df2.plot(ax=ax, color='green', alpha=0.5);\n",
    "plt.show()"
   ]
  },
  {
   "cell_type": "code",
   "execution_count": 67,
   "metadata": {},
   "outputs": [],
   "source": [
    "def CreateHexGrid(area, xleft, ybottom, xright, ytop, savename):\n",
    "    #error checks\n",
    "    if area <0:\n",
    "        raise MarxanServicesError(\"Area value is invalid\")\n",
    "        \n",
    "    if len(savename) <= 0:\n",
    "        return \"No output filename given\"\n",
    "    \n",
    "    if (xleft >= xright):\n",
    "        return \"Invalid extent width: \" + unicode(xleft) + \" - \" + unicode(xright)\n",
    "    \n",
    "    if (ybottom >= ytop):\n",
    "        return \"Invalid extent height: \" + unicode(ybottom) + \" - \" + unicode(ytop)\n",
    "    \n",
    "    print area, xleft, ybottom, xright, ytop\n",
    "    \n",
    "    #calculate the spacing between the hexagons to give you the required area\n",
    "    sideLength = math.sqrt((2*area)/(3*math.sqrt(3)))\n",
    "    xspacing = sideLength + (sideLength * 0.5) # the cos(60) = 0.5\n",
    "    yspacing = xspacing / 0.866025\n",
    "    print yspacing\n",
    "\n",
    "    #create a new geodataframe to store the hexagons\n",
    "    newdata = gpd.GeoDataFrame()\n",
    "    newdata.crs = {'init' :'epsg:3410'}\n",
    "       \n",
    "    #create the geometry field and an id field\n",
    "    newdata['geometry'] = None\n",
    "    newdata['id'] = None\n",
    "    \n",
    "    #get the number of rows/columns\n",
    "    rows = int(ceil((ytop - ybottom) / yspacing))\n",
    "    columns = int(ceil((xright - xleft) / xspacing))\n",
    "    print \"rows, columns: \" + str(rows) + \" \" + str( columns)\n",
    "    \n",
    "    #initialise the feature counter\n",
    "    feature_count = 0\n",
    "    \n",
    "    #THE FOLLOWING CODE COMES FROM MICHAEL MINN'S MMQGIS PLUGIN - http://michaelminn.com/linux/mmqgis/\n",
    "    \n",
    "    # To preserve symmetry, hspacing is fixed relative to vspacing\n",
    "    xvertexlo = 0.288675134594813 * yspacing\n",
    "    xvertexhi = 0.577350269189626 * yspacing\n",
    "    xspacing = xvertexlo + xvertexhi\n",
    "\n",
    "    for column in range(0, int(floor(float(xright - xleft) / xspacing))):\n",
    "        # (column + 1) and (row + 1) calculation is used to maintain \n",
    "        # topology between adjacent shapes and avoid overlaps/holes \n",
    "        # due to rounding errors\n",
    "\n",
    "        x1 = xleft + (column * xspacing)    # far left\n",
    "        x2 = x1 + (xvertexhi - xvertexlo)    # left\n",
    "        x3 = xleft + ((column + 1) * xspacing)    # right\n",
    "        x4 = x3 + (xvertexhi - xvertexlo)    # far right\n",
    "\n",
    "        for row in range(0, int(floor(float(ytop - ybottom) / yspacing))):\n",
    "\n",
    "            if (column % 2) == 0:\n",
    "                y1 = ybottom + (((row * 2) + 0) * (yspacing / 2))    # hi\n",
    "                y2 = ybottom + (((row * 2) + 1) * (yspacing / 2))    # mid\n",
    "                y3 = ybottom + (((row * 2) + 2) * (yspacing / 2))    # lo\n",
    "            else:\n",
    "                y1 = ybottom + (((row * 2) + 1) * (yspacing / 2))    # hi\n",
    "                y2 = ybottom + (((row * 2) + 2) * (yspacing / 2))    # mid\n",
    "                y3 = ybottom + (((row * 2) + 3) * (yspacing / 2))    #lo\n",
    "\n",
    "            #create the coordinates of the hexagon\n",
    "            coordinates = [(x1, y2), (x2, y1), (x3, y1), (x4, y2), (x3, y3), (x2, y3), (x1, y2)]\n",
    "            \n",
    "            #cretae a polygon with the coordinates\n",
    "            poly = Polygon(coordinates)\n",
    "\n",
    "            #set the geometry\n",
    "            newdata.loc[feature_count, 'geometry'] = poly\n",
    "\n",
    "            #set the feature id\n",
    "            newdata.loc[feature_count, 'id'] = feature_count\n",
    "            \n",
    "            #increment the counter\n",
    "            feature_count = feature_count + 1\n",
    "\n",
    "    # Write the data into that Shapefile\n",
    "    newdata.to_file(\"E:/cottaan/Documents/ArcGIS/Datasets/\" + savename + \".shp\")\n",
    "    \n",
    "    # Write the prj file as it doesnt get produced\n",
    "    file = open(\"E:/cottaan/Documents/ArcGIS/Datasets/\" + savename + \".prj\",\"w\") \n",
    "    file.write('PROJCS[\"NSIDC_EASE_Grid_Global\",GEOGCS[\"GCS_Unspecified datum based upon the International 1924 Authalic Sphere\",DATUM[\"D_Sphere_International_1924_Authalic\",SPHEROID[\"International_1924_Authalic_Sphere\",6371228,0]],PRIMEM[\"Greenwich\",0],UNIT[\"Degree\",0.017453292519943295]],PROJECTION[\"Cylindrical_Equal_Area\"],PARAMETER[\"standard_parallel_1\",30],PARAMETER[\"central_meridian\",0],PARAMETER[\"false_easting\",0],PARAMETER[\"false_northing\",0],UNIT[\"Meter\",1]]') \n",
    "    file.close()\n",
    "    \n",
    "    return \"Hexagon grid created\""
   ]
  },
  {
   "cell_type": "code",
   "execution_count": 68,
   "metadata": {},
   "outputs": [
    {
     "name": "stdout",
     "output_type": "stream",
     "text": [
      "500000000 13405242.3514 -1872878.36099 15678140.8211 333209.676673\n",
      "24028.1253445\n",
      "rows, columns: 92 110\n"
     ]
    },
    {
     "ename": "AttributeError",
     "evalue": "No geometry data set yet (expected in column 'geometry'.",
     "output_type": "error",
     "traceback": [
      "\u001b[1;31m---------------------------------------------------------------------------\u001b[0m",
      "\u001b[1;31mAttributeError\u001b[0m                            Traceback (most recent call last)",
      "\u001b[1;32m<ipython-input-68-495e9a1c5f32>\u001b[0m in \u001b[0;36m<module>\u001b[1;34m()\u001b[0m\n\u001b[0;32m     23\u001b[0m \u001b[1;31m#do the intersection between the country boundary and the hexagon grid and write the results\u001b[0m\u001b[1;33m\u001b[0m\u001b[1;33m\u001b[0m\u001b[0m\n\u001b[0;32m     24\u001b[0m \u001b[0mintersection\u001b[0m \u001b[1;33m=\u001b[0m \u001b[0mgpd\u001b[0m\u001b[1;33m.\u001b[0m\u001b[0moverlay\u001b[0m\u001b[1;33m(\u001b[0m\u001b[0mpng\u001b[0m\u001b[1;33m,\u001b[0m \u001b[0mhexGrid\u001b[0m\u001b[1;33m,\u001b[0m \u001b[0mhow\u001b[0m\u001b[1;33m=\u001b[0m\u001b[1;34m'intersection'\u001b[0m\u001b[1;33m)\u001b[0m\u001b[1;33m\u001b[0m\u001b[0m\n\u001b[1;32m---> 25\u001b[1;33m \u001b[0mintersection\u001b[0m\u001b[1;33m.\u001b[0m\u001b[0mto_file\u001b[0m\u001b[1;33m(\u001b[0m\u001b[1;34m\"E:/cottaan/Documents/ArcGIS/Datasets/intersection.shp\"\u001b[0m\u001b[1;33m)\u001b[0m\u001b[1;33m\u001b[0m\u001b[0m\n\u001b[0m\u001b[0;32m     26\u001b[0m \u001b[1;33m\u001b[0m\u001b[0m\n\u001b[0;32m     27\u001b[0m \u001b[1;31m# plt.clf()\u001b[0m\u001b[1;33m\u001b[0m\u001b[1;33m\u001b[0m\u001b[0m\n",
      "\u001b[1;32mE:\\dev\\Anaconda2\\lib\\site-packages\\geopandas\\geodataframe.pyc\u001b[0m in \u001b[0;36mto_file\u001b[1;34m(self, filename, driver, schema, **kwargs)\u001b[0m\n\u001b[0;32m    363\u001b[0m         \"\"\"\n\u001b[0;32m    364\u001b[0m         \u001b[1;32mfrom\u001b[0m \u001b[0mgeopandas\u001b[0m\u001b[1;33m.\u001b[0m\u001b[0mio\u001b[0m\u001b[1;33m.\u001b[0m\u001b[0mfile\u001b[0m \u001b[1;32mimport\u001b[0m \u001b[0mto_file\u001b[0m\u001b[1;33m\u001b[0m\u001b[0m\n\u001b[1;32m--> 365\u001b[1;33m         \u001b[0mto_file\u001b[0m\u001b[1;33m(\u001b[0m\u001b[0mself\u001b[0m\u001b[1;33m,\u001b[0m \u001b[0mfilename\u001b[0m\u001b[1;33m,\u001b[0m \u001b[0mdriver\u001b[0m\u001b[1;33m,\u001b[0m \u001b[0mschema\u001b[0m\u001b[1;33m,\u001b[0m \u001b[1;33m**\u001b[0m\u001b[0mkwargs\u001b[0m\u001b[1;33m)\u001b[0m\u001b[1;33m\u001b[0m\u001b[0m\n\u001b[0m\u001b[0;32m    366\u001b[0m \u001b[1;33m\u001b[0m\u001b[0m\n\u001b[0;32m    367\u001b[0m     \u001b[1;32mdef\u001b[0m \u001b[0mto_crs\u001b[0m\u001b[1;33m(\u001b[0m\u001b[0mself\u001b[0m\u001b[1;33m,\u001b[0m \u001b[0mcrs\u001b[0m\u001b[1;33m=\u001b[0m\u001b[0mNone\u001b[0m\u001b[1;33m,\u001b[0m \u001b[0mepsg\u001b[0m\u001b[1;33m=\u001b[0m\u001b[0mNone\u001b[0m\u001b[1;33m,\u001b[0m \u001b[0minplace\u001b[0m\u001b[1;33m=\u001b[0m\u001b[0mFalse\u001b[0m\u001b[1;33m)\u001b[0m\u001b[1;33m:\u001b[0m\u001b[1;33m\u001b[0m\u001b[0m\n",
      "\u001b[1;32mE:\\dev\\Anaconda2\\lib\\site-packages\\geopandas\\io\\file.pyc\u001b[0m in \u001b[0;36mto_file\u001b[1;34m(df, filename, driver, schema, **kwargs)\u001b[0m\n\u001b[0;32m     58\u001b[0m     \"\"\"\n\u001b[0;32m     59\u001b[0m     \u001b[1;32mif\u001b[0m \u001b[0mschema\u001b[0m \u001b[1;32mis\u001b[0m \u001b[0mNone\u001b[0m\u001b[1;33m:\u001b[0m\u001b[1;33m\u001b[0m\u001b[0m\n\u001b[1;32m---> 60\u001b[1;33m         \u001b[0mschema\u001b[0m \u001b[1;33m=\u001b[0m \u001b[0minfer_schema\u001b[0m\u001b[1;33m(\u001b[0m\u001b[0mdf\u001b[0m\u001b[1;33m)\u001b[0m\u001b[1;33m\u001b[0m\u001b[0m\n\u001b[0m\u001b[0;32m     61\u001b[0m     \u001b[0mfilename\u001b[0m \u001b[1;33m=\u001b[0m \u001b[0mos\u001b[0m\u001b[1;33m.\u001b[0m\u001b[0mpath\u001b[0m\u001b[1;33m.\u001b[0m\u001b[0mabspath\u001b[0m\u001b[1;33m(\u001b[0m\u001b[0mos\u001b[0m\u001b[1;33m.\u001b[0m\u001b[0mpath\u001b[0m\u001b[1;33m.\u001b[0m\u001b[0mexpanduser\u001b[0m\u001b[1;33m(\u001b[0m\u001b[0mfilename\u001b[0m\u001b[1;33m)\u001b[0m\u001b[1;33m)\u001b[0m\u001b[1;33m\u001b[0m\u001b[0m\n\u001b[0;32m     62\u001b[0m     \u001b[1;32mwith\u001b[0m \u001b[0mfiona\u001b[0m\u001b[1;33m.\u001b[0m\u001b[0mdrivers\u001b[0m\u001b[1;33m(\u001b[0m\u001b[1;33m)\u001b[0m\u001b[1;33m:\u001b[0m\u001b[1;33m\u001b[0m\u001b[0m\n",
      "\u001b[1;32mE:\\dev\\Anaconda2\\lib\\site-packages\\geopandas\\io\\file.pyc\u001b[0m in \u001b[0;36minfer_schema\u001b[1;34m(df)\u001b[0m\n\u001b[0;32m     86\u001b[0m     ])\n\u001b[0;32m     87\u001b[0m \u001b[1;33m\u001b[0m\u001b[0m\n\u001b[1;32m---> 88\u001b[1;33m     \u001b[0mgeom_type\u001b[0m \u001b[1;33m=\u001b[0m \u001b[0m_common_geom_type\u001b[0m\u001b[1;33m(\u001b[0m\u001b[0mdf\u001b[0m\u001b[1;33m)\u001b[0m\u001b[1;33m\u001b[0m\u001b[0m\n\u001b[0m\u001b[0;32m     89\u001b[0m     \u001b[1;32mif\u001b[0m \u001b[1;32mnot\u001b[0m \u001b[0mgeom_type\u001b[0m\u001b[1;33m:\u001b[0m\u001b[1;33m\u001b[0m\u001b[0m\n\u001b[0;32m     90\u001b[0m         raise ValueError(\"Geometry column cannot contain mutiple \"\n",
      "\u001b[1;32mE:\\dev\\Anaconda2\\lib\\site-packages\\geopandas\\io\\file.pyc\u001b[0m in \u001b[0;36m_common_geom_type\u001b[1;34m(df)\u001b[0m\n\u001b[0;32m    100\u001b[0m     \u001b[1;31m# Some (most?) providers expect a single geometry type:\u001b[0m\u001b[1;33m\u001b[0m\u001b[1;33m\u001b[0m\u001b[0m\n\u001b[0;32m    101\u001b[0m     \u001b[1;31m# Point, LineString, or Polygon\u001b[0m\u001b[1;33m\u001b[0m\u001b[1;33m\u001b[0m\u001b[0m\n\u001b[1;32m--> 102\u001b[1;33m     \u001b[0mgeom_types\u001b[0m \u001b[1;33m=\u001b[0m \u001b[0mdf\u001b[0m\u001b[1;33m.\u001b[0m\u001b[0mgeometry\u001b[0m\u001b[1;33m.\u001b[0m\u001b[0mgeom_type\u001b[0m\u001b[1;33m.\u001b[0m\u001b[0munique\u001b[0m\u001b[1;33m(\u001b[0m\u001b[1;33m)\u001b[0m\u001b[1;33m\u001b[0m\u001b[0m\n\u001b[0m\u001b[0;32m    103\u001b[0m \u001b[1;33m\u001b[0m\u001b[0m\n\u001b[0;32m    104\u001b[0m     \u001b[1;32mfrom\u001b[0m \u001b[0mos\u001b[0m\u001b[1;33m.\u001b[0m\u001b[0mpath\u001b[0m \u001b[1;32mimport\u001b[0m \u001b[0mcommonprefix\u001b[0m   \u001b[1;31m# To find longest common prefix\u001b[0m\u001b[1;33m\u001b[0m\u001b[0m\n",
      "\u001b[1;32mE:\\dev\\Anaconda2\\lib\\site-packages\\pandas\\core\\generic.pyc\u001b[0m in \u001b[0;36m__getattr__\u001b[1;34m(self, name)\u001b[0m\n\u001b[0;32m   3079\u001b[0m             \u001b[1;32mif\u001b[0m \u001b[0mname\u001b[0m \u001b[1;32min\u001b[0m \u001b[0mself\u001b[0m\u001b[1;33m.\u001b[0m\u001b[0m_info_axis\u001b[0m\u001b[1;33m:\u001b[0m\u001b[1;33m\u001b[0m\u001b[0m\n\u001b[0;32m   3080\u001b[0m                 \u001b[1;32mreturn\u001b[0m \u001b[0mself\u001b[0m\u001b[1;33m[\u001b[0m\u001b[0mname\u001b[0m\u001b[1;33m]\u001b[0m\u001b[1;33m\u001b[0m\u001b[0m\n\u001b[1;32m-> 3081\u001b[1;33m             \u001b[1;32mreturn\u001b[0m \u001b[0mobject\u001b[0m\u001b[1;33m.\u001b[0m\u001b[0m__getattribute__\u001b[0m\u001b[1;33m(\u001b[0m\u001b[0mself\u001b[0m\u001b[1;33m,\u001b[0m \u001b[0mname\u001b[0m\u001b[1;33m)\u001b[0m\u001b[1;33m\u001b[0m\u001b[0m\n\u001b[0m\u001b[0;32m   3082\u001b[0m \u001b[1;33m\u001b[0m\u001b[0m\n\u001b[0;32m   3083\u001b[0m     \u001b[1;32mdef\u001b[0m \u001b[0m__setattr__\u001b[0m\u001b[1;33m(\u001b[0m\u001b[0mself\u001b[0m\u001b[1;33m,\u001b[0m \u001b[0mname\u001b[0m\u001b[1;33m,\u001b[0m \u001b[0mvalue\u001b[0m\u001b[1;33m)\u001b[0m\u001b[1;33m:\u001b[0m\u001b[1;33m\u001b[0m\u001b[0m\n",
      "\u001b[1;32mE:\\dev\\Anaconda2\\lib\\site-packages\\geopandas\\geodataframe.pyc\u001b[0m in \u001b[0;36m_get_geometry\u001b[1;34m(self)\u001b[0m\n\u001b[0;32m     67\u001b[0m         \u001b[1;32mif\u001b[0m \u001b[0mself\u001b[0m\u001b[1;33m.\u001b[0m\u001b[0m_geometry_column_name\u001b[0m \u001b[1;32mnot\u001b[0m \u001b[1;32min\u001b[0m \u001b[0mself\u001b[0m\u001b[1;33m:\u001b[0m\u001b[1;33m\u001b[0m\u001b[0m\n\u001b[0;32m     68\u001b[0m             raise AttributeError(\"No geometry data set yet (expected in\"\n\u001b[1;32m---> 69\u001b[1;33m                                  \" column '%s'.\" % self._geometry_column_name)\n\u001b[0m\u001b[0;32m     70\u001b[0m         \u001b[1;32mreturn\u001b[0m \u001b[0mself\u001b[0m\u001b[1;33m[\u001b[0m\u001b[0mself\u001b[0m\u001b[1;33m.\u001b[0m\u001b[0m_geometry_column_name\u001b[0m\u001b[1;33m]\u001b[0m\u001b[1;33m\u001b[0m\u001b[0m\n\u001b[0;32m     71\u001b[0m \u001b[1;33m\u001b[0m\u001b[0m\n",
      "\u001b[1;31mAttributeError\u001b[0m: No geometry data set yet (expected in column 'geometry'."
     ]
    }
   ],
   "source": [
    "import math, fiona\n",
    "import geopandas as gpd\n",
    "import matplotlib.pyplot as plt\n",
    "from shapely.geometry import Polygon\n",
    "from math import floor, ceil\n",
    "\n",
    "#get the global administrative boundaries\n",
    "world = gpd.read_file(r'E:\\cottaan\\Documents\\ArcGIS\\Datasets\\gaul_eez\\jrc_gaul_2015_eez_v9_dissolved_from_andreas_spatial_lite_db.shp')\n",
    "\n",
    "#get the country boundary\n",
    "png = world.loc[world['iso3']=='PNG']\n",
    "# eastern_highlands = gpd.read_file(r'E:\\cottaan\\Documents\\ArcGIS\\eastern_highlands.shp')\n",
    "\n",
    "#reproject and get the bounds\n",
    "bounds = png['geometry'].to_crs(epsg=3410).bounds.iloc[0] #iloc gets the first bounds\n",
    "\n",
    "#create the hexagon grid\n",
    "CreateHexGrid(500000000, bounds.minx,  bounds.miny, bounds.maxx, bounds.maxy,'test7')\n",
    "\n",
    "#get the hexagon grid\n",
    "hexGrid = gpd.read_file(r'E:\\cottaan\\Documents\\ArcGIS\\Datasets\\test7.shp')\n",
    "\n",
    "#do the intersection between the country boundary and the hexagon grid and write the results\n",
    "intersection = gpd.overlay(png, hexGrid, how='intersection')\n",
    "intersection.to_file(\"E:/cottaan/Documents/ArcGIS/Datasets/intersection.shp\")\n",
    "\n",
    "# plt.clf()\n",
    "# png.plot()\n",
    "# eastern_highlands.plot()\n",
    "# intersection.plot()\n",
    "# plt.show()\n"
   ]
  },
  {
   "cell_type": "code",
   "execution_count": null,
   "metadata": {},
   "outputs": [],
   "source": [
    "#do the intersection between the country boundary and the hexagon grid and write the results\n",
    "intersection = gpd.overlay(png, hexGrid, how='intersection')\n",
    "intersection.to_file(\"E:/cottaan/Documents/ArcGIS/Datasets/intersection.shp\")\n"
   ]
  }
 ],
 "metadata": {
  "kernelspec": {
   "display_name": "Python 2",
   "language": "python",
   "name": "python2"
  },
  "language_info": {
   "codemirror_mode": {
    "name": "ipython",
    "version": 2
   },
   "file_extension": ".py",
   "mimetype": "text/x-python",
   "name": "python",
   "nbconvert_exporter": "python",
   "pygments_lexer": "ipython2",
   "version": "2.7.14"
  }
 },
 "nbformat": 4,
 "nbformat_minor": 2
}
